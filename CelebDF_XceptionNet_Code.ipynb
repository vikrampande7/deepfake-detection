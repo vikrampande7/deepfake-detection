{
 "cells": [
  {
   "cell_type": "code",
   "execution_count": null,
   "metadata": {
    "colab": {
     "base_uri": "https://localhost:8080/"
    },
    "id": "PtHpzm2dvuYq",
    "outputId": "c6463539-1924-4930-b60b-48f188803b46"
   },
   "outputs": [],
   "source": [
    "import pandas as pd\n",
    "import numpy as np\n",
    "import torch\n",
    "import torch.nn as nn\n",
    "import torch.nn.functional as F\n",
    "import torchvision\n",
    "import torchvision.transforms as transforms\n",
    "import torch.nn as nn\n",
    "import torch.optim as optim\n",
    "from torchvision import datasets\n",
    "from torchvision.io import read_image\n",
    "import glob\n",
    "import cv2\n",
    "import matplotlib.pyplot as plt\n",
    "from torch.utils.data import Dataset, DataLoader\n",
    "from PIL import Image\n",
    "import timm\n",
    "torch.manual_seed(42)\n",
    "device = 'cuda'\n"
   ]
  },
  {
   "cell_type": "markdown",
   "metadata": {
    "id": "oMsY8gQydb8U"
   },
   "source": [
    "## Dataset extracted from Celeb-DF Videos. DataLoader Creation"
   ]
  },
  {
   "cell_type": "code",
   "execution_count": null,
   "metadata": {
    "id": "luUItpGederJ"
   },
   "outputs": [],
   "source": [
    "class CustomDataset(Dataset):\n",
    "\tdef __init__(self, transform=None):\n",
    "\t\tself.imgs_path = 'C:/792/Celeb-DF-v2_images/'\n",
    "\t\tself.transform = transform\n",
    "\t\tfile_list = glob.glob(self.imgs_path + \"*\")\n",
    "\t\tself.data = []\n",
    "\t\tfor class_path in file_list:\n",
    "\t\t\tclass_name = class_path.split(\"\\\\\")[-1]\n",
    "\t\t\tfor img_path in glob.glob(class_path + \"/*.jpg\"):\n",
    "\t\t\t\tself.data.append([img_path, class_name])\n",
    "\t\tself.class_map = {\"Celeb-real_images\": 0, \"Celeb-synthesis_images\": 1}\n",
    "\t\n",
    "\tdef __len__(self):\n",
    "\t\treturn len(self.data)\n",
    "\n",
    "\tdef __getitem__(self, idx):\n",
    "\t\timg_path, class_name = self.data[idx]\n",
    "\t\timg = read_image(img_path)\n",
    "\t\tclass_id = self.class_map[class_name]\n",
    "\t\tclass_id = torch.tensor([class_id])\n",
    "\n",
    "\t\tif self.transform:\n",
    "\t\t\t\timg_tensor = self.transform(img)\n",
    "\t\treturn img_tensor, class_id"
   ]
  },
  {
   "cell_type": "code",
   "execution_count": null,
   "metadata": {
    "id": "307i1exx5vWk"
   },
   "outputs": [],
   "source": [
    "train_transforms = transforms.Compose([\n",
    "    transforms.ToPILImage(),\n",
    "    transforms.Resize([128, 128]),\n",
    "    transforms.ToTensor()\n",
    "    ])\n"
   ]
  },
  {
   "attachments": {},
   "cell_type": "markdown",
   "metadata": {},
   "source": [
    "## Train Test Split"
   ]
  },
  {
   "cell_type": "code",
   "execution_count": null,
   "metadata": {
    "id": "i_hhUKPTdetg"
   },
   "outputs": [],
   "source": [
    "dataset = CustomDataset(transform=train_transforms)\n",
    "train_size = int(0.8 * len(dataset))\n",
    "val_size = len(dataset) - train_size\n",
    "train_dataset, val_dataset = torch.utils.data.random_split(dataset, [train_size, val_size])\t"
   ]
  },
  {
   "cell_type": "code",
   "execution_count": null,
   "metadata": {
    "id": "93_xKYhpl2PN",
    "outputId": "702e4895-02c8-4d71-e156-fb7cc08b0d98"
   },
   "outputs": [],
   "source": [
    "len(dataset)"
   ]
  },
  {
   "cell_type": "code",
   "execution_count": null,
   "metadata": {
    "id": "otvC3pkjl2PN",
    "outputId": "a2eb4462-0456-4ada-ae0a-3de91aac2b89"
   },
   "outputs": [],
   "source": [
    "train_data_loader = DataLoader(train_dataset, batch_size=128, shuffle=True)\n",
    "val_data_loader = DataLoader(val_dataset, batch_size=128, shuffle=True)\n",
    "len(train_data_loader)"
   ]
  },
  {
   "cell_type": "markdown",
   "metadata": {
    "id": "DetHchcb43Gc"
   },
   "source": [
    "## XceptionNet Model"
   ]
  },
  {
   "cell_type": "code",
   "execution_count": null,
   "metadata": {},
   "outputs": [],
   "source": [
    "model = timm.create_model('xception', pretrained=True, num_classes=1)\n",
    "model = model.to(device)\n"
   ]
  },
  {
   "cell_type": "markdown",
   "metadata": {
    "id": "TlETlqPcdGcs"
   },
   "source": [
    "## Optimizer and Loss Function\n"
   ]
  },
  {
   "cell_type": "code",
   "execution_count": null,
   "metadata": {
    "id": "CJ5KcJeEHB71"
   },
   "outputs": [],
   "source": [
    "optimizer = torch.optim.Adam(model.parameters(),lr = 0.0001)\n",
    "criterion = nn.BCEWithLogitsLoss()"
   ]
  },
  {
   "cell_type": "markdown",
   "metadata": {
    "id": "t4dTS9b0dKen"
   },
   "source": [
    "## Training code"
   ]
  },
  {
   "cell_type": "code",
   "execution_count": null,
   "metadata": {},
   "outputs": [],
   "source": [
    "train_losses, train_accs, val_losses, val_accs = [], [], [], []\n",
    "\n",
    "for epoch in range(20):\n",
    "    print(\"=================\")\n",
    "    print(f\"Epoch: {epoch+1}\")\n",
    "\n",
    "    model.train()\n",
    "    avg_loss_train = 0\n",
    "    correct = 0\n",
    "    total = 0\n",
    "  \n",
    "    for i, data in enumerate(train_data_loader, 0):\n",
    "    \n",
    "        inputs,labels = data\n",
    "        inputs = inputs.to(device)\n",
    "        labels = labels.to(device)\n",
    "        outputs = model(inputs.float())\n",
    "        outputs = torch.sigmoid(outputs) \n",
    "    \n",
    "        optimizer.zero_grad()\n",
    "        loss = criterion(outputs, labels.float())\n",
    "        loss.backward()\n",
    "        optimizer.step()\n",
    "        avg_loss_train += loss.item()\n",
    "        predicted = (outputs > 0.5).float()  \n",
    "        correct += (predicted == labels).sum().item()\n",
    "        total += labels.size(0)\n",
    "    epoch_loss = avg_loss_train / len(train_data_loader)\n",
    "    epoch_acc = correct / total\n",
    "\n",
    "    train_losses.append(epoch_loss)\n",
    "    train_accs.append(epoch_acc)\n",
    "\n",
    "    print(f\"Train Loss: {epoch_loss} | Train Accuracy: {epoch_acc}\")    \n",
    "\n",
    "    model.eval()\n",
    "    running_loss = 0\n",
    "    correct = 0\n",
    "    total = 0\n",
    "    with torch.no_grad():\n",
    "        for data in val_data_loader:\n",
    "            inputs,labels = data\n",
    "            inputs = inputs.to(device)\n",
    "            labels = labels.to(device)\n",
    "            outputs = model(inputs.float())\n",
    "            outputs = torch.sigmoid(outputs)  \n",
    "        \n",
    "            optimizer.zero_grad()\n",
    "            loss = criterion(outputs, labels.float())\n",
    "            running_loss += loss.item()\n",
    "            \n",
    "            predicted = (outputs > 0.5).float()  \n",
    "            correct += (predicted == labels).sum().item()\n",
    "            total += labels.size(0)\n",
    "        epoch_loss = running_loss / len(val_data_loader)\n",
    "        epoch_acc = correct / total\n",
    "    val_losses.append(epoch_loss)\n",
    "    val_accs.append(epoch_acc)\n",
    "\n",
    "    print(f\"Val Loss: {epoch_loss} | Val Accuracy: {epoch_acc}\")"
   ]
  },
  {
   "cell_type": "code",
   "execution_count": null,
   "metadata": {},
   "outputs": [],
   "source": [
    "\n",
    "\n",
    "def plot_curves(train_losses, train_accuracies, val_losses, val_accuracies):\n",
    "\n",
    "  fig, (ax1, ax2) = plt.subplots(nrows=2, ncols=1, figsize=(8, 8))\n",
    "\n",
    "  # Plot the train and test losses\n",
    "  ax1.plot(train_losses, label='Train')\n",
    "  ax1.plot(val_losses, label='Val')\n",
    "  ax1.set_xlabel('Epoch')\n",
    "  ax1.set_ylabel('Loss')\n",
    "  ax1.set_title('Losses vs Epochs')\n",
    "  ax1.legend()\n",
    "\n",
    "  # Plot the train and test accuracies\n",
    "  ax2.plot(train_accuracies, label='Train')\n",
    "  ax2.plot(val_accuracies, label='Val')\n",
    "  ax2.set_xlabel('Epoch')\n",
    "  ax2.set_ylabel('Accuracy')\n",
    "  ax2.set_title('Accuracy vs Epochs')\n",
    "  ax2.legend()\n",
    "\n",
    "  # Show the plot\n",
    "  plt.show()\n",
    "  "
   ]
  },
  {
   "cell_type": "code",
   "execution_count": null,
   "metadata": {
    "id": "rpd5KbkurR_y"
   },
   "outputs": [],
   "source": [
    "torch.save({\n",
    "            'model': model,\n",
    "            'model_state_dict': model.state_dict(),\n",
    "            'train_losses' : train_losses,\n",
    "            'train_accs' : train_accs,\n",
    "            'val_losses' : val_losses,\n",
    "            'val_accs' : val_accs,\n",
    "            }, 'CelebDF.pt')\n",
    "print('model saved')\n"
   ]
  },
  {
   "cell_type": "code",
   "execution_count": null,
   "metadata": {},
   "outputs": [],
   "source": []
  }
 ],
 "metadata": {
  "colab": {
   "provenance": []
  },
  "kernelspec": {
   "display_name": "Python 3 (ipykernel)",
   "language": "python",
   "name": "python3"
  },
  "language_info": {
   "codemirror_mode": {
    "name": "ipython",
    "version": 3
   },
   "file_extension": ".py",
   "mimetype": "text/x-python",
   "name": "python",
   "nbconvert_exporter": "python",
   "pygments_lexer": "ipython3",
   "version": "3.10.11"
  },
  "vscode": {
   "interpreter": {
    "hash": "703fc444efd57af823539a0730dab3b55a3cc9cc45981e7b1b33eb3f139bc8b4"
   }
  }
 },
 "nbformat": 4,
 "nbformat_minor": 1
}
