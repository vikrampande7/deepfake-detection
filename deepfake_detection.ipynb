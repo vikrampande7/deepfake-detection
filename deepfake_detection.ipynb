{
  "nbformat": 4,
  "nbformat_minor": 0,
  "metadata": {
    "colab": {
      "provenance": []
    },
    "kernelspec": {
      "name": "python3",
      "display_name": "Python 3"
    },
    "language_info": {
      "name": "python"
    }
  },
  "cells": [
    {
      "cell_type": "code",
      "execution_count": null,
      "metadata": {
        "colab": {
          "base_uri": "https://localhost:8080/"
        },
        "id": "PtHpzm2dvuYq",
        "outputId": "495ce357-bec0-44b9-a7b4-58a86cf61184"
      },
      "outputs": [
        {
          "output_type": "execute_result",
          "data": {
            "text/plain": [
              "<torch._C.Generator at 0x7fa1e080dcb0>"
            ]
          },
          "metadata": {},
          "execution_count": 5
        }
      ],
      "source": [
        "import pandas as pd\n",
        "import numpy as np\n",
        "import matplotlib.pyplot as plt\n",
        "import torch\n",
        "import torch.nn as nn\n",
        "import torch.nn.functional as F\n",
        "\n",
        "torch.manual_seed(42)"
      ]
    },
    {
      "cell_type": "code",
      "source": [
        "class ConvBn(nn.Module):\n",
        "    def __init__(self, in_channels,out_channels, kernel_size, stride=1, padding = 1):\n",
        "        super(ConvBn, self).__init__()\n",
        "        self.conv = nn.Conv2d(in_channels, out_channels, kernel_size, stride, padding = padding, bias=False)\n",
        "        self.bn = nn.BatchNorm2d(out_channels)\n",
        "\n",
        "    def forward(self, x):\n",
        "            x = self.conv(x)\n",
        "            x = self.bn(x)\n",
        "            return x\n",
        "\n",
        "# Pointwise and Depthwise Convolution - Separable Convolution\n",
        "class SepBn(nn.Module):\n",
        "    def __init__(self, in_channels, out_channels, kernel_size, stride=1, padding = 1):\n",
        "        super(SepBn, self).__init__()\n",
        "        self.depthwise = nn.Conv2d(in_channels, in_channels, kernel_size, stride, padding=padding, groups=in_channels, bias=False)\n",
        "        self.pointwise = nn.Conv2d(in_channels, out_channels, 1, 1, 0, bias=False)\n",
        "        self.bn = nn.BatchNorm2d(out_channels)\n",
        "        \n",
        "    def forward(self, x):\n",
        "        x = self.depthwise(x)\n",
        "        x = self.pointwise(x)\n",
        "        x = self.bn(x)\n",
        "        return x"
      ],
      "metadata": {
        "id": "vI2enxlLvsVh"
      },
      "execution_count": null,
      "outputs": []
    },
    {
      "cell_type": "code",
      "source": [
        "class XceptionNet(nn.Module):\n",
        "  def __init__(self):\n",
        "    super(XceptionNet,self).__init__()\n",
        "\n",
        "    # EntryFlow\n",
        "    self.conv1 = ConvBn(3, 32, 3, stride=2, padding = 1)\n",
        "    self.relu1 = nn.ReLU()\n",
        "    self.conv2 = ConvBn(32, 64, 3, padding = 1)\n",
        "    self.relu2 = nn.ReLU()\n",
        "\n",
        "    self.sep_bn1 = SepBn(64, 128, 3, padding = 1)\n",
        "    self.relu3 = nn.ReLU()\n",
        "    self.sep_bn2 = SepBn(128, 128, 3)\n",
        "    self.pool1 = nn.MaxPool2d(kernel_size = 3, stride = 2, padding  = 1)\n",
        "\n",
        "    self.conv3 = ConvBn(64, 128, kernel_size=1, stride=2, padding = 0)\n",
        "    #add\n",
        "    self.relu4 = nn.ReLU()\n",
        "    self.sep_bn3 = SepBn(128, 256, 3)\n",
        "    self.relu5 = nn.ReLU()\n",
        "    self.sep_bn4 = SepBn(256, 256, 3)\n",
        "    self.pool2 = nn.MaxPool2d(3, stride=2, padding  = 1)\n",
        "\n",
        "    self.conv4 = ConvBn(128, 256, 1, stride=2,  padding = 0)\n",
        "    #add\n",
        "    self.relu6 = nn.ReLU()\n",
        "    self.sep_bn5 = SepBn(256, 728, 3)\n",
        "    self.relu7 = nn.ReLU()\n",
        "    self.sep_bn6 = SepBn(728, 728, 3)\n",
        "    self.pool3 = nn.MaxPool2d(3, stride=2, padding  = 1)\n",
        "\n",
        "    self.conv5 = ConvBn(256, 728, 1, stride=2, padding = 0)\n",
        "    #add\n",
        "\n",
        "    # Middle Flow\n",
        "    self.relu8 = nn.ReLU()\n",
        "    self.sep_bn7 = SepBn(728,728,3)\n",
        "    self.relu9 = nn.ReLU()\n",
        "    self.sep_bn8 = SepBn(728, 728, 3)\n",
        "    self.relu10 = nn.ReLU()\n",
        "    self.sep_bn9 = SepBn(728, 728, 3)\n",
        "\n",
        "    # Exit Flow\n",
        "    self.sep_bn10 = SepBn(728,728,3)\n",
        "    self.sep_bn11 = SepBn(728, 1024, 3)     \n",
        "    self.poolMaxExit = nn.MaxPool2d(3, stride=2, padding  = 1)\n",
        "    self.convExit = ConvBn(728, 1024, kernel_size=1, stride=2, padding = 0)\n",
        "    self.sep_bn12 = SepBn(1024, 1536, 3)\n",
        "    self.sep_bn13 = SepBn(1536, 2048, 3)\n",
        "    self.avgpoolExit = nn.AdaptiveAvgPool2d((1,1))\n",
        "    self.linearExit = nn.Linear(in_features=2048, out_features=2)\n",
        "    self.softmaxExit = nn.LogSoftmax(dim=1)\n",
        "    \n",
        "\n",
        "\n",
        "  def forward(self, x):\n",
        "      # Entry Flow\n",
        "      x = self.conv1(x)\n",
        "      x = self.relu1(x)\n",
        "      x = self.conv2(x)\n",
        "      x = self.relu2(x)\n",
        "      tensor = x\n",
        "\n",
        "\n",
        "      x = self.sep_bn1(tensor)\n",
        "      x = self.relu3(x)\n",
        "      x = self.sep_bn2(x)\n",
        "      x = self.pool1(x)\n",
        "\n",
        "      tensor1 = self.conv3(tensor)\n",
        "\n",
        "      x = torch.add(tensor1, x)\n",
        "      x = self.relu4(x)\n",
        "      x = self.sep_bn3(x)\n",
        "      x = self.relu5(x)\n",
        "      x = self.sep_bn4(x)\n",
        "      x = self.pool2(x)\n",
        "\n",
        "      tensor2 = self.conv4(tensor1)\n",
        "\n",
        "      x = torch.add(tensor2, x)\n",
        "      x = self.relu6(x)\n",
        "      x = self.sep_bn5(x)\n",
        "      x = self.relu7(x)\n",
        "      x = self.sep_bn6(x)\n",
        "      x = self.pool3(x)\n",
        "\n",
        "      tensor3 = self.conv5(tensor2)\n",
        "\n",
        "      input = torch.add(tensor3, x)\n",
        "\n",
        "      # Middle Flow\n",
        "      for i in range(8):\n",
        "        x = self.relu8(input)\n",
        "        x = self.sep_bn7(x)\n",
        "        x = self.relu9(x)\n",
        "        x = self.sep_bn8(x)\n",
        "        x = self.relu10(x)\n",
        "        x = self.sep_bn9(x)\n",
        "        input2 = torch.add(input,x)\n",
        "\n",
        "      \n",
        "      # Exit Flow\n",
        "      x = self.relu10(input2)\n",
        "      x = self.sep_bn10(x)\n",
        "      x = self.relu10(x)\n",
        "      x = self.sep_bn11(x)\n",
        "      x = self.poolMaxExit(x)\n",
        "\n",
        "      tensor = self.convExit(input2)\n",
        "\n",
        "      x = torch.add(tensor, x)\n",
        "      x = self.sep_bn12(x)\n",
        "      x = self.relu10(x)\n",
        "      x = self.sep_bn13(x)\n",
        "      x = self.relu10(x)\n",
        "      x = self.avgpoolExit(x)\n",
        "      x = x.view(x.size(0), -1)\n",
        "      x = self.linearExit(x)\n",
        "      x = self.softmaxExit(x)\n",
        "\n",
        "      return x"
      ],
      "metadata": {
        "id": "L8MUZx2j8H2f"
      },
      "execution_count": null,
      "outputs": []
    },
    {
      "cell_type": "code",
      "source": [
        "image = torch.rand(1,3,299,299)\n",
        "# image"
      ],
      "metadata": {
        "id": "uGZTgCzQKiR2"
      },
      "execution_count": null,
      "outputs": []
    },
    {
      "cell_type": "code",
      "source": [
        "model = XceptionNet()"
      ],
      "metadata": {
        "id": "qlWfKSJ_HbXW"
      },
      "execution_count": null,
      "outputs": []
    },
    {
      "cell_type": "code",
      "source": [
        "op = model(image)"
      ],
      "metadata": {
        "id": "ITER7nJDHjQi"
      },
      "execution_count": null,
      "outputs": []
    },
    {
      "cell_type": "code",
      "source": [
        "op.shape"
      ],
      "metadata": {
        "colab": {
          "base_uri": "https://localhost:8080/"
        },
        "id": "753j8mtuHlBj",
        "outputId": "d208495d-3748-412d-c122-5f7c83b14d55"
      },
      "execution_count": null,
      "outputs": [
        {
          "output_type": "execute_result",
          "data": {
            "text/plain": [
              "torch.Size([1, 2])"
            ]
          },
          "metadata": {},
          "execution_count": 97
        }
      ]
    },
    {
      "cell_type": "code",
      "source": [
        "optimizer = torch.optim.Adam(model.parameters(),lr = 0.001)\n",
        "criterion = nn.BCELoss()\n",
        "\n",
        "running_loss = 0.0\n",
        "for epoch in range(1):\n",
        "  for i, data in enumerate(image,0):\n",
        "    inputs,labels = data\n",
        "\n",
        "    optimizer.zero_grad()\n",
        "\n",
        "    outputs = model(inputs)\n",
        "\n",
        "    loss = criterion(outputs,labels)\n",
        "    loss.backward()\n",
        "    optimizer.step()\n",
        "\n",
        "    running_loss += loss.item()\n",
        "    if i % 64 == 63:\n",
        "      print(f\"[{epoch+1},{i + 1:5d}] loss: {running_loss / 64:.3f}\")\n",
        "\n",
        "print(\"Finished Training\")"
      ],
      "metadata": {
        "colab": {
          "base_uri": "https://localhost:8080/",
          "height": 235
        },
        "id": "oyHEEPZMIdc4",
        "outputId": "ece3b2b7-af5f-4915-d35f-49884404b637"
      },
      "execution_count": null,
      "outputs": [
        {
          "output_type": "error",
          "ename": "ValueError",
          "evalue": "ignored",
          "traceback": [
            "\u001b[0;31m---------------------------------------------------------------------------\u001b[0m",
            "\u001b[0;31mValueError\u001b[0m                                Traceback (most recent call last)",
            "\u001b[0;32m<ipython-input-98-f6b967a7eddd>\u001b[0m in \u001b[0;36m<module>\u001b[0;34m\u001b[0m\n\u001b[1;32m      5\u001b[0m \u001b[0;32mfor\u001b[0m \u001b[0mepoch\u001b[0m \u001b[0;32min\u001b[0m \u001b[0mrange\u001b[0m\u001b[0;34m(\u001b[0m\u001b[0;36m1\u001b[0m\u001b[0;34m)\u001b[0m\u001b[0;34m:\u001b[0m\u001b[0;34m\u001b[0m\u001b[0;34m\u001b[0m\u001b[0m\n\u001b[1;32m      6\u001b[0m   \u001b[0;32mfor\u001b[0m \u001b[0mi\u001b[0m\u001b[0;34m,\u001b[0m \u001b[0mdata\u001b[0m \u001b[0;32min\u001b[0m \u001b[0menumerate\u001b[0m\u001b[0;34m(\u001b[0m\u001b[0mimage\u001b[0m\u001b[0;34m,\u001b[0m\u001b[0;36m0\u001b[0m\u001b[0;34m)\u001b[0m\u001b[0;34m:\u001b[0m\u001b[0;34m\u001b[0m\u001b[0;34m\u001b[0m\u001b[0m\n\u001b[0;32m----> 7\u001b[0;31m     \u001b[0minputs\u001b[0m\u001b[0;34m,\u001b[0m\u001b[0mlabels\u001b[0m \u001b[0;34m=\u001b[0m \u001b[0mdata\u001b[0m\u001b[0;34m\u001b[0m\u001b[0;34m\u001b[0m\u001b[0m\n\u001b[0m\u001b[1;32m      8\u001b[0m \u001b[0;34m\u001b[0m\u001b[0m\n\u001b[1;32m      9\u001b[0m     \u001b[0moptimizer\u001b[0m\u001b[0;34m.\u001b[0m\u001b[0mzero_grad\u001b[0m\u001b[0;34m(\u001b[0m\u001b[0;34m)\u001b[0m\u001b[0;34m\u001b[0m\u001b[0;34m\u001b[0m\u001b[0m\n",
            "\u001b[0;31mValueError\u001b[0m: too many values to unpack (expected 2)"
          ]
        }
      ]
    },
    {
      "cell_type": "code",
      "source": [
        "# Test Image\n",
        "label = 1\n",
        "img = 0\n",
        "# op = model(img)\n",
        "op = 0.8 + img"
      ],
      "metadata": {
        "id": "1YEL1InqPr8d"
      },
      "execution_count": 1,
      "outputs": []
    },
    {
      "cell_type": "code",
      "source": [
        "if (op>=0.8):\n",
        "  pred = 'real'\n",
        "else:\n",
        "  pred = 'fake'\n",
        "\n",
        "print(pred)"
      ],
      "metadata": {
        "colab": {
          "base_uri": "https://localhost:8080/"
        },
        "id": "T95sD1NeECNq",
        "outputId": "02e86925-4b18-46d3-a085-5bdcad45d0f2"
      },
      "execution_count": 3,
      "outputs": [
        {
          "output_type": "stream",
          "name": "stdout",
          "text": [
            "real\n"
          ]
        }
      ]
    },
    {
      "cell_type": "code",
      "source": [],
      "metadata": {
        "id": "s6y9cBUQEDag"
      },
      "execution_count": null,
      "outputs": []
    }
  ]
}